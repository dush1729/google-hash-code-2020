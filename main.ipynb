{
 "cells": [
  {
   "cell_type": "code",
   "execution_count": 4,
   "metadata": {},
   "outputs": [],
   "source": [
    "from Librabry import Librabry\n",
    "from Book import Book"
   ]
  },
  {
   "cell_type": "code",
   "execution_count": 5,
   "metadata": {},
   "outputs": [],
   "source": [
    "Books = []\n",
    "Librabries = []\n",
    "\n",
    "with open('../a_example.txt') as f:\n",
    "    B, L, D = list(map(int,f.readline().split()))\n",
    "    scores = list(map(int,f.readline().split()))\n",
    "    for i in range(len(scores)):\n",
    "        Books.append( Book(id = i, score = scores[i]) )\n",
    "        \n",
    "    for i in range(L):\n",
    "        N, T, M = list( map(int, f.readline().split()))\n",
    "        newLib = Librabry(i, N, T, M)\n",
    "        books = list( map(int, f.readline().split()))\n",
    "        for bookId in books:\n",
    "            newLib.books.append( Books[bookId])"
   ]
  },
  {
   "cell_type": "code",
   "execution_count": null,
   "metadata": {},
   "outputs": [],
   "source": []
  },
  {
   "cell_type": "code",
   "execution_count": null,
   "metadata": {},
   "outputs": [],
   "source": []
  }
 ],
 "metadata": {
  "kernelspec": {
   "display_name": "Python 3",
   "language": "python",
   "name": "python3"
  },
  "language_info": {
   "codemirror_mode": {
    "name": "ipython",
    "version": 3
   },
   "file_extension": ".py",
   "mimetype": "text/x-python",
   "name": "python",
   "nbconvert_exporter": "python",
   "pygments_lexer": "ipython3",
   "version": "3.7.3"
  }
 },
 "nbformat": 4,
 "nbformat_minor": 4
}
